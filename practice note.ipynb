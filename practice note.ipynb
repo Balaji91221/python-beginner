{
 "cells": [
  {
   "cell_type": "markdown",
   "id": "e082f487",
   "metadata": {},
   "source": [
    "# Python beginner\n",
    "\n"
   ]
  },
  {
   "cell_type": "code",
   "execution_count": null,
   "id": "0ac6e42d",
   "metadata": {},
   "outputs": [],
   "source": [
    "this is while concept"
   ]
  },
  {
   "cell_type": "code",
   "execution_count": 1,
   "id": "1ef7a5d4",
   "metadata": {},
   "outputs": [
    {
     "name": "stdout",
     "output_type": "stream",
     "text": [
      "9\n",
      "8\n",
      "7\n",
      "6\n",
      "5\n",
      "4\n",
      "2\n",
      "1\n",
      "0\n",
      "this is while loop\n"
     ]
    }
   ],
   "source": [
    "var =10\n",
    "while var >0:\n",
    "    var =var-1\n",
    "    if var==3:\n",
    "        continue\n",
    "    print(var)\n",
    "    \n",
    "print(\"this is while loop\")"
   ]
  },
  {
   "cell_type": "code",
   "execution_count": 2,
   "id": "13c02f4a",
   "metadata": {},
   "outputs": [
    {
     "data": {
      "text/plain": [
       "[10, 20, 3.7, 5.7]"
      ]
     },
     "execution_count": 2,
     "metadata": {},
     "output_type": "execute_result"
    }
   ],
   "source": [
    "list=[10,20,40,5.7]\n",
    "list[2]=3.7\n",
    "list"
   ]
  },
  {
   "cell_type": "code",
   "execution_count": 3,
   "id": "f3d45b52",
   "metadata": {},
   "outputs": [
    {
     "data": {
      "text/plain": [
       "[10, 20, 'hello', 3.7, 5.7]"
      ]
     },
     "execution_count": 3,
     "metadata": {},
     "output_type": "execute_result"
    }
   ],
   "source": [
    "#lisrt\n",
    "list.insert(2,'hello')\n",
    "list"
   ]
  },
  {
   "cell_type": "code",
   "execution_count": 4,
   "id": "306bf79a",
   "metadata": {},
   "outputs": [
    {
     "data": {
      "text/plain": [
       "['cat', 'dog', 'monkey']"
      ]
     },
     "execution_count": 4,
     "metadata": {},
     "output_type": "execute_result"
    }
   ],
   "source": [
    "# sorting\n",
    "animals =['monkey', 'dog','cat']\n",
    "animals.sort()\n",
    "animals\n"
   ]
  },
  {
   "cell_type": "code",
   "execution_count": 5,
   "id": "9377bb6e",
   "metadata": {},
   "outputs": [
    {
     "data": {
      "text/plain": [
       "['cat', 'dog', 'monkey', 'donkey']"
      ]
     },
     "execution_count": 5,
     "metadata": {},
     "output_type": "execute_result"
    }
   ],
   "source": [
    "#append\n",
    "animals.append('donkey')\n",
    "animals\n"
   ]
  },
  {
   "cell_type": "code",
   "execution_count": 6,
   "id": "bbf81341",
   "metadata": {},
   "outputs": [
    {
     "data": {
      "text/plain": [
       "['donkey', 'monkey', 'dog', 'cat']"
      ]
     },
     "execution_count": 6,
     "metadata": {},
     "output_type": "execute_result"
    }
   ],
   "source": [
    "# reverse\n",
    "animals.reverse()\n",
    "animals\n"
   ]
  },
  {
   "cell_type": "code",
   "execution_count": 12,
   "id": "ed562710",
   "metadata": {},
   "outputs": [
    {
     "name": "stdout",
     "output_type": "stream",
     "text": [
      "['bannana', 'apple', 'keiv']\n",
      "['bannana', 'graphs', 'keiv']\n",
      "['bannana', 'orange', 'graphs', 'keiv']\n",
      "['bannana', 'graphs', 'keiv', 'orange']\n",
      "['bannana', 'keiv', 'orange']\n",
      "['bannana', 'keiv', 'orange', 'papaya']\n"
     ]
    }
   ],
   "source": [
    "#replace\n",
    "fruits=['bannana','apple','keiv']\n",
    "print(fruits)\n",
    "#replace\n",
    "fruits[1]='graphs'\n",
    "print(fruits)\n",
    "\n",
    "fruits.insert(1,'orange')\n",
    "print(fruits)\n",
    "#sort\n",
    "fruits.sort()\n",
    "print(fruits)\n",
    "#del\n",
    "del fruits[1]\n",
    "print(fruits)\n",
    "#append\n",
    "fruits.append('papaya')\n",
    "print(fruits)\n"
   ]
  },
  {
   "cell_type": "markdown",
   "id": "3bedf197",
   "metadata": {},
   "source": [
    "# tuples\n",
    "# in tuples we can't insert we can't delete\n"
   ]
  },
  {
   "cell_type": "code",
   "execution_count": 13,
   "id": "10245fb1",
   "metadata": {},
   "outputs": [
    {
     "data": {
      "text/plain": [
       "('dog', 'cat', 'donkey')"
      ]
     },
     "execution_count": 13,
     "metadata": {},
     "output_type": "execute_result"
    }
   ],
   "source": [
    "# tuples ar esimilar to list \n",
    "#list is mutuable is changed\n",
    "#tuples is immutable is not change \n",
    "animal =('dog','cat','donkey')\n",
    "animal"
   ]
  },
  {
   "cell_type": "code",
   "execution_count": 14,
   "id": "e2ed9554",
   "metadata": {},
   "outputs": [
    {
     "data": {
      "text/plain": [
       "'dog'"
      ]
     },
     "execution_count": 14,
     "metadata": {},
     "output_type": "execute_result"
    }
   ],
   "source": [
    "#in tuple we can use index values\n",
    "animal[0]"
   ]
  },
  {
   "cell_type": "markdown",
   "id": "d0da049b",
   "metadata": {},
   "source": [
    "# sequencs\n",
    "#list tuples are called tuples\n"
   ]
  },
  {
   "cell_type": "code",
   "execution_count": 57,
   "id": "2cdf1c94",
   "metadata": {},
   "outputs": [
    {
     "data": {
      "text/plain": [
       "6"
      ]
     },
     "execution_count": 57,
     "metadata": {},
     "output_type": "execute_result"
    }
   ],
   "source": [
    "#here we are calculating the length\n",
    "name='balaji'\n",
    "list=[10,20,30,40,5,6]\n",
    "tuple1=(10,2,3,4.5,7,5)\n",
    "len(name)"
   ]
  },
  {
   "cell_type": "code",
   "execution_count": 58,
   "id": "8c9f854e",
   "metadata": {},
   "outputs": [
    {
     "data": {
      "text/plain": [
       "6"
      ]
     },
     "execution_count": 58,
     "metadata": {},
     "output_type": "execute_result"
    }
   ],
   "source": [
    "len(list)"
   ]
  },
  {
   "cell_type": "code",
   "execution_count": 59,
   "id": "0643626e",
   "metadata": {},
   "outputs": [
    {
     "data": {
      "text/plain": [
       "[20, 30, 40, 5, 6]"
      ]
     },
     "execution_count": 59,
     "metadata": {},
     "output_type": "execute_result"
    }
   ],
   "source": [
    "#here we are printing except 1\n",
    "list[1:]"
   ]
  },
  {
   "cell_type": "code",
   "execution_count": 60,
   "id": "3a9a79c4",
   "metadata": {},
   "outputs": [
    {
     "data": {
      "text/plain": [
       "[10, 20]"
      ]
     },
     "execution_count": 60,
     "metadata": {},
     "output_type": "execute_result"
    }
   ],
   "source": [
    "#here we printing 2 elements\n",
    "list[:2]"
   ]
  },
  {
   "cell_type": "code",
   "execution_count": 61,
   "id": "a7eb6f6a",
   "metadata": {},
   "outputs": [
    {
     "data": {
      "text/plain": [
       "2"
      ]
     },
     "execution_count": 61,
     "metadata": {},
     "output_type": "execute_result"
    }
   ],
   "source": [
    "#here we can count of name how many is repeat in the name\n",
    "name.count('a')"
   ]
  },
  {
   "cell_type": "code",
   "execution_count": 62,
   "id": "03ee2750",
   "metadata": {},
   "outputs": [
    {
     "data": {
      "text/plain": [
       "True"
      ]
     },
     "execution_count": 62,
     "metadata": {},
     "output_type": "execute_result"
    }
   ],
   "source": [
    "#membership operation\n",
    "'l' in name"
   ]
  },
  {
   "cell_type": "code",
   "execution_count": 63,
   "id": "a66c064a",
   "metadata": {},
   "outputs": [
    {
     "data": {
      "text/plain": [
       "'balaji hai'"
      ]
     },
     "execution_count": 63,
     "metadata": {},
     "output_type": "execute_result"
    }
   ],
   "source": [
    "#concentation\n",
    "s=' hai'\n",
    "name+s"
   ]
  },
  {
   "cell_type": "code",
   "execution_count": 64,
   "id": "c818b9fb",
   "metadata": {},
   "outputs": [
    {
     "data": {
      "text/plain": [
       "[10, 20, 30, 40, 5, 6, 'hello', 2]"
      ]
     },
     "execution_count": 64,
     "metadata": {},
     "output_type": "execute_result"
    }
   ],
   "source": [
    "list1=['hello',2]\n",
    "list+list1"
   ]
  },
  {
   "cell_type": "code",
   "execution_count": 65,
   "id": "38b4d5ad",
   "metadata": {},
   "outputs": [
    {
     "data": {
      "text/plain": [
       "'a'"
      ]
     },
     "execution_count": 65,
     "metadata": {},
     "output_type": "execute_result"
    }
   ],
   "source": [
    "min(name)"
   ]
  },
  {
   "cell_type": "code",
   "execution_count": 66,
   "id": "7ce0dd28",
   "metadata": {},
   "outputs": [
    {
     "data": {
      "text/plain": [
       "'l'"
      ]
     },
     "execution_count": 66,
     "metadata": {},
     "output_type": "execute_result"
    }
   ],
   "source": [
    "max(name)"
   ]
  },
  {
   "cell_type": "markdown",
   "id": "9a93704e",
   "metadata": {},
   "source": [
    "# list assignment"
   ]
  },
  {
   "cell_type": "code",
   "execution_count": 68,
   "id": "829fe90e",
   "metadata": {},
   "outputs": [
    {
     "data": {
      "text/plain": [
       "[10, 5, 4, 3, 2, 1, 45]"
      ]
     },
     "execution_count": 68,
     "metadata": {},
     "output_type": "execute_result"
    }
   ],
   "source": [
    "list=[10,5,4,3,2,1,45]\n",
    "list2=list\n",
    "list2"
   ]
  },
  {
   "cell_type": "code",
   "execution_count": 71,
   "id": "60c74dcb",
   "metadata": {},
   "outputs": [
    {
     "data": {
      "text/plain": [
       "['apple', 5, 4, 3, 2, 1, 45]"
      ]
     },
     "execution_count": 71,
     "metadata": {},
     "output_type": "execute_result"
    }
   ],
   "source": [
    "list[0]='apple'\n",
    "list"
   ]
  },
  {
   "cell_type": "code",
   "execution_count": 72,
   "id": "052028e0",
   "metadata": {},
   "outputs": [
    {
     "name": "stdout",
     "output_type": "stream",
     "text": [
      "1\n",
      "2\n",
      "3\n",
      "4\n",
      "5\n",
      "6\n",
      "7\n",
      "8\n",
      "9\n",
      "10\n"
     ]
    }
   ],
   "source": [
    "# range function\n",
    "for x in range(1,11):\n",
    "    print(x)"
   ]
  },
  {
   "cell_type": "markdown",
   "id": "ee9070b3",
   "metadata": {},
   "source": [
    "# function\n",
    "function call :\n",
    "#def is followed by function name and followed by parameters\n",
    "and function definition\n",
    "these concept will reducud the time and space\n"
   ]
  },
  {
   "cell_type": "code",
   "execution_count": 84,
   "id": "cba672f8",
   "metadata": {},
   "outputs": [
    {
     "name": "stdout",
     "output_type": "stream",
     "text": [
      "welcome\n",
      "the result of n1+n2+n3: 2000.0\n",
      "2.0\n"
     ]
    }
   ],
   "source": [
    "def avg(n1,n2,n3):\n",
    "    return (n1*n2*n3)/3\n",
    " \n",
    "print(\"welcome\")\n",
    "\n",
    "result1 = avg(10,20,30)\n",
    "result2 = avg(1,2,3)\n",
    "\n",
    "print(\"the result of n1+n2+n3:\",result1)\n",
    "print(result2)"
   ]
  },
  {
   "cell_type": "code",
   "execution_count": 82,
   "id": "14f61097",
   "metadata": {},
   "outputs": [
    {
     "name": "stdout",
     "output_type": "stream",
     "text": [
      "The square of the number is:  81\n"
     ]
    }
   ],
   "source": [
    "def square( num ):  \n",
    "    \"\"\" \n",
    "    This function computes the square of the number. \n",
    "    \"\"\"  \n",
    "    return num**2   \n",
    "object_ = square(9)  \n",
    "print( \"The square of the number is: \", object_ )  "
   ]
  },
  {
   "cell_type": "code",
   "execution_count": 86,
   "id": "e1ce23bf",
   "metadata": {},
   "outputs": [
    {
     "name": "stdout",
     "output_type": "stream",
     "text": [
      "n value is: 10\n",
      "n value is: 5\n"
     ]
    }
   ],
   "source": [
    "#local variable \n",
    "def func():\n",
    "    n=5\n",
    "    print(\"n value is:\",n)\n",
    "def func2():\n",
    "    n=10\n",
    "    print(\"n value is:\",n)\n",
    "    func()\n",
    "    \n",
    "func2()"
   ]
  },
  {
   "cell_type": "code",
   "execution_count": 89,
   "id": "33c20966",
   "metadata": {},
   "outputs": [
    {
     "name": "stdout",
     "output_type": "stream",
     "text": [
      "20\n",
      "10\n"
     ]
    }
   ],
   "source": [
    "#global variable\n",
    "n=10\n",
    "def func():\n",
    "    print(n)\n",
    "def func2():\n",
    "    n=20\n",
    "    print(n)\n",
    "    func()\n",
    " #mainfunction  assumption\n",
    "\n",
    "func2()"
   ]
  },
  {
   "cell_type": "code",
   "execution_count": 93,
   "id": "afe0f8fe",
   "metadata": {},
   "outputs": [
    {
     "name": "stdout",
     "output_type": "stream",
     "text": [
      "11\n"
     ]
    }
   ],
   "source": [
    "var=10\n",
    "def func():\n",
    "    global var\n",
    "    var=var+1\n",
    "    print(var)\n",
    "    return \n",
    "\n",
    "func()"
   ]
  },
  {
   "cell_type": "code",
   "execution_count": 94,
   "id": "db8c9964",
   "metadata": {},
   "outputs": [
    {
     "name": "stdout",
     "output_type": "stream",
     "text": [
      "0\n",
      "1\n",
      "2\n",
      "3\n",
      "4\n",
      "5\n",
      "6\n",
      "7\n",
      "8\n",
      "9\n",
      "10\n"
     ]
    }
   ],
   "source": [
    "for x in  range (0,11):\n",
    "    print(x)"
   ]
  },
  {
   "cell_type": "code",
   "execution_count": 97,
   "id": "9477848d",
   "metadata": {},
   "outputs": [
    {
     "name": "stdout",
     "output_type": "stream",
     "text": [
      "190\n",
      "20\n",
      "20\n",
      "1\n",
      "2\n",
      "4\n"
     ]
    }
   ],
   "source": [
    "#variable length in some we don't know to pass variable\n",
    "def func(*list1):\n",
    "    for num in list1:\n",
    "        print(num)\n",
    "    return\n",
    "\n",
    "func(190,20,20)\n",
    "func(1,2,4)"
   ]
  },
  {
   "cell_type": "code",
   "execution_count": 98,
   "id": "026cef5d",
   "metadata": {},
   "outputs": [
    {
     "data": {
      "text/plain": [
       "5"
      ]
     },
     "execution_count": 98,
     "metadata": {},
     "output_type": "execute_result"
    }
   ],
   "source": [
    "abs(5)"
   ]
  },
  {
   "cell_type": "code",
   "execution_count": 99,
   "id": "d56c53b2",
   "metadata": {},
   "outputs": [
    {
     "data": {
      "text/plain": [
       "6"
      ]
     },
     "execution_count": 99,
     "metadata": {},
     "output_type": "execute_result"
    }
   ],
   "source": [
    "#abstrate value\n",
    "abs(-6)"
   ]
  },
  {
   "cell_type": "code",
   "execution_count": 101,
   "id": "4f9d0439",
   "metadata": {},
   "outputs": [
    {
     "data": {
      "text/plain": [
       "3"
      ]
     },
     "execution_count": 101,
     "metadata": {},
     "output_type": "execute_result"
    }
   ],
   "source": [
    "#ceil function will next higher integer \n",
    "import math\n",
    "math.ceil(2.8)"
   ]
  },
  {
   "cell_type": "code",
   "execution_count": 102,
   "id": "b3c8e67c",
   "metadata": {},
   "outputs": [
    {
     "data": {
      "text/plain": [
       "4"
      ]
     },
     "execution_count": 102,
     "metadata": {},
     "output_type": "execute_result"
    }
   ],
   "source": [
    "# floor value means gives next lower vakue\n",
    "math.floor(4.6)"
   ]
  },
  {
   "cell_type": "code",
   "execution_count": 103,
   "id": "aa4a39aa",
   "metadata": {},
   "outputs": [
    {
     "data": {
      "text/plain": [
       "3"
      ]
     },
     "execution_count": 103,
     "metadata": {},
     "output_type": "execute_result"
    }
   ],
   "source": [
    "#trunc will gives only integers part\n",
    "math.trunc(3.1)\n"
   ]
  },
  {
   "cell_type": "code",
   "execution_count": 107,
   "id": "fbcffb46",
   "metadata": {},
   "outputs": [
    {
     "data": {
      "text/plain": [
       "7.38905609893065"
      ]
     },
     "execution_count": 107,
     "metadata": {},
     "output_type": "execute_result"
    }
   ],
   "source": [
    "import math\n",
    "math.e\n",
    "math.exp(2)\n"
   ]
  },
  {
   "cell_type": "code",
   "execution_count": 108,
   "id": "727b6911",
   "metadata": {},
   "outputs": [
    {
     "data": {
      "text/plain": [
       "5.0"
      ]
     },
     "execution_count": 108,
     "metadata": {},
     "output_type": "execute_result"
    }
   ],
   "source": [
    "math.sqrt(25)"
   ]
  },
  {
   "cell_type": "code",
   "execution_count": 109,
   "id": "49d06dae",
   "metadata": {},
   "outputs": [
    {
     "data": {
      "text/plain": [
       "10"
      ]
     },
     "execution_count": 109,
     "metadata": {},
     "output_type": "execute_result"
    }
   ],
   "source": [
    "max(10,2.3,4.1)"
   ]
  },
  {
   "cell_type": "code",
   "execution_count": 112,
   "id": "79ad25b0",
   "metadata": {},
   "outputs": [
    {
     "data": {
      "text/plain": [
       "True"
      ]
     },
     "execution_count": 112,
     "metadata": {},
     "output_type": "execute_result"
    }
   ],
   "source": [
    "str=\"google.com\"\n",
    "str.endswith(\"com\")"
   ]
  },
  {
   "cell_type": "code",
   "execution_count": 114,
   "id": "436a1f41",
   "metadata": {},
   "outputs": [
    {
     "data": {
      "text/plain": [
       "True"
      ]
     },
     "execution_count": 114,
     "metadata": {},
     "output_type": "execute_result"
    }
   ],
   "source": [
    "str.endswith('m')"
   ]
  },
  {
   "cell_type": "code",
   "execution_count": 116,
   "id": "568d406f",
   "metadata": {},
   "outputs": [
    {
     "data": {
      "text/plain": [
       "'This is baljai naik'"
      ]
     },
     "execution_count": 116,
     "metadata": {},
     "output_type": "execute_result"
    }
   ],
   "source": [
    "str=\"this is Baljai Naik\"\n",
    "str.capitalize()"
   ]
  },
  {
   "cell_type": "code",
   "execution_count": 118,
   "id": "a0450a7b",
   "metadata": {},
   "outputs": [
    {
     "data": {
      "text/plain": [
       "2"
      ]
     },
     "execution_count": 118,
     "metadata": {},
     "output_type": "execute_result"
    }
   ],
   "source": [
    "#finding the number from string\n",
    "str=\"vitap college\"\n",
    "str.find(\"t\")"
   ]
  },
  {
   "cell_type": "code",
   "execution_count": 119,
   "id": "27514b72",
   "metadata": {},
   "outputs": [
    {
     "data": {
      "text/plain": [
       "['vitap', 'college']"
      ]
     },
     "execution_count": 119,
     "metadata": {},
     "output_type": "execute_result"
    }
   ],
   "source": [
    "str.split()"
   ]
  },
  {
   "cell_type": "code",
   "execution_count": 120,
   "id": "4cd98a0f",
   "metadata": {},
   "outputs": [
    {
     "data": {
      "text/plain": [
       "13"
      ]
     },
     "execution_count": 120,
     "metadata": {},
     "output_type": "execute_result"
    }
   ],
   "source": [
    "len(str)"
   ]
  },
  {
   "cell_type": "code",
   "execution_count": 121,
   "id": "0d0d468c",
   "metadata": {},
   "outputs": [
    {
     "data": {
      "text/plain": [
       "'this is Blaji Naik '"
      ]
     },
     "execution_count": 121,
     "metadata": {},
     "output_type": "execute_result"
    }
   ],
   "source": [
    "#in function we can remove the words\n",
    "str=\"this is Blaji Naik w\"\n",
    "str.strip(\"w\")"
   ]
  },
  {
   "cell_type": "code",
   "execution_count": 1,
   "id": "46cf7f7c",
   "metadata": {},
   "outputs": [
    {
     "data": {
      "text/plain": [
       "24"
      ]
     },
     "execution_count": 1,
     "metadata": {},
     "output_type": "execute_result"
    }
   ],
   "source": [
    "#math is a module which stores the maths modulea like if we write factorial problem function module\n",
    "import math\n",
    "math.factorial(4)"
   ]
  },
  {
   "cell_type": "code",
   "execution_count": null,
   "id": "970ddd0b",
   "metadata": {},
   "outputs": [],
   "source": [
    "help(math) #all function under amth module"
   ]
  },
  {
   "cell_type": "code",
   "execution_count": null,
   "id": "0f813ccd",
   "metadata": {},
   "outputs": [],
   "source": [
    "import sys\n",
    "sys.path\n",
    "\n",
    "#we have define th system"
   ]
  },
  {
   "cell_type": "code",
   "execution_count": null,
   "id": "2b003bca",
   "metadata": {},
   "outputs": [],
   "source": [
    "# save the file name.py\n",
    "import module1():\n",
    "    name=input(\"please enter your name:\")\n",
    "    print(\"hello\",name)\n",
    "    return"
   ]
  },
  {
   "cell_type": "code",
   "execution_count": null,
   "id": "dfc1bce1",
   "metadata": {},
   "outputs": [],
   "source": [
    "import module1"
   ]
  },
  {
   "cell_type": "code",
   "execution_count": null,
   "id": "b327e51c",
   "metadata": {},
   "outputs": [],
   "source": [
    "#place filenameand function name.module()"
   ]
  },
  {
   "cell_type": "code",
   "execution_count": 1,
   "id": "80cb9949",
   "metadata": {},
   "outputs": [
    {
     "data": {
      "text/plain": [
       "'hello'"
      ]
     },
     "execution_count": 1,
     "metadata": {},
     "output_type": "execute_result"
    }
   ],
   "source": [
    "#in list is order and in dict it is unordered\n",
    "list=[2,33,4,'hello']\n",
    "list[3]"
   ]
  },
  {
   "cell_type": "code",
   "execution_count": 4,
   "id": "02e8e3bb",
   "metadata": {},
   "outputs": [
    {
     "data": {
      "text/plain": [
       "'two'"
      ]
     },
     "execution_count": 4,
     "metadata": {},
     "output_type": "execute_result"
    }
   ],
   "source": [
    "dict1={1:'one',2:'two',3:'three'}\n",
    "dict1[2]"
   ]
  },
  {
   "cell_type": "code",
   "execution_count": 8,
   "id": "a55f0b3a",
   "metadata": {},
   "outputs": [
    {
     "name": "stdout",
     "output_type": "stream",
     "text": [
      "enter 'sun','mon','tue','wed','thursday','fri' or 'sat':mon\n",
      "the temperature for: monday was 71 degrees\n"
     ]
    }
   ],
   "source": [
    "#temp display program using list\n",
    "daily_temps=[68,71,56,67,78,45,78]\n",
    "day=input(\"enter 'sun','mon','tue','wed','thursday','fri' or 'sat':\")\n",
    "if day =='sun':\n",
    "    dayname='sunday'\n",
    "    temp =daily_temps[0]\n",
    "if day =='mon':\n",
    "    dayname='monday'\n",
    "    temp =daily_temps[1]\n",
    "    \n",
    "elif day =='tue':\n",
    "    dayname='tuesday'\n",
    "    temp =daily_temps[2]\n",
    "\n",
    "elif day =='wed':\n",
    "    dayname='wesdayday'\n",
    "    temp =daily_temps[3]\n",
    "elif day =='thur':\n",
    "    dayname='thursday'\n",
    "    temp =daily_temps[4]\n",
    "elif day =='fri':\n",
    "    dayname='friday'\n",
    "    temp =daily_temps[5]\n",
    "elif day =='sat':\n",
    "    dayname='satursday'\n",
    "    temp =daily_temps[6]\n",
    "else:\n",
    "    print('wrong statemetn')\n",
    "print(\"the temperature for:\",dayname,\"was\",temp,\"degrees\")"
   ]
  },
  {
   "cell_type": "code",
   "execution_count": null,
   "id": "3e163d8e",
   "metadata": {},
   "outputs": [],
   "source": [
    "#dict different ways of cresting \n",
    "# to identifies the dict first we have create the {key:value,key:value} this is syntax of the dict key should be mutable "
   ]
  },
  {
   "cell_type": "code",
   "execution_count": 7,
   "id": "beebb175",
   "metadata": {},
   "outputs": [
    {
     "name": "stdout",
     "output_type": "stream",
     "text": [
      "thiis my my dict : apple\n"
     ]
    }
   ],
   "source": [
    "my_dict={1:'apple',2:'ball',3:'cat'}\n",
    "print(\"thiis my my dict :\",my_dict[1])\n"
   ]
  },
  {
   "cell_type": "code",
   "execution_count": 5,
   "id": "948fed17",
   "metadata": {},
   "outputs": [
    {
     "data": {
      "text/plain": [
       "{1: 'apple', 2: 'bat'}"
      ]
     },
     "execution_count": 5,
     "metadata": {},
     "output_type": "execute_result"
    }
   ],
   "source": [
    "my_dict={}\n",
    "my_dict[1]='apple'\n",
    "my_dict[2]='bat'\n",
    "my_dict\n"
   ]
  },
  {
   "cell_type": "code",
   "execution_count": 12,
   "id": "99bc45c3",
   "metadata": {},
   "outputs": [
    {
     "data": {
      "text/plain": [
       "dict_values(['apple', 'apple', 'cat'])"
      ]
     },
     "execution_count": 12,
     "metadata": {},
     "output_type": "execute_result"
    }
   ],
   "source": [
    "d=dict([(1,'apple'),(2,'apple'),(3,\"cat\")])\n",
    "d\n",
    "d.keys()#to print the keys \n",
    "\n",
    "d.values#to printthe key values"
   ]
  },
  {
   "cell_type": "code",
   "execution_count": 9,
   "id": "5987dd61",
   "metadata": {},
   "outputs": [
    {
     "data": {
      "text/plain": [
       "{1: 'apple', 2: 'banana', 3: 'ant', 4: 'eagle'}"
      ]
     },
     "execution_count": 9,
     "metadata": {},
     "output_type": "execute_result"
    }
   ],
   "source": [
    "a=[1,2,3,4]\n",
    "b=['apple','banana','ant','eagle']\n",
    "my_dict={}\n",
    "for i in range(len(a)):\n",
    "    my_dict[a[i]]=b[i]\n",
    "    \n",
    "my_dict\n",
    "    "
   ]
  },
  {
   "cell_type": "code",
   "execution_count": 14,
   "id": "1f8094de",
   "metadata": {},
   "outputs": [
    {
     "data": {
      "text/plain": [
       "'apple'"
      ]
     },
     "execution_count": 14,
     "metadata": {},
     "output_type": "execute_result"
    }
   ],
   "source": [
    "my_dict.get(1)# get means which has storage in th element of the dict "
   ]
  },
  {
   "cell_type": "code",
   "execution_count": 18,
   "id": "3ef2f7e7",
   "metadata": {},
   "outputs": [
    {
     "data": {
      "text/plain": [
       "{1: 'apple', 2: 'banana', 3: 'ball'}"
      ]
     },
     "execution_count": 18,
     "metadata": {},
     "output_type": "execute_result"
    }
   ],
   "source": [
    "#insertin the dict \n",
    "my_dict={1: 'apple',2: 'banana',3: 'ball'}\n",
    "my_dict"
   ]
  },
  {
   "cell_type": "code",
   "execution_count": 21,
   "id": "9ac1cd45",
   "metadata": {},
   "outputs": [
    {
     "data": {
      "text/plain": [
       "{1: 'apple', 2: 'bat', 3: 'ball', 4: 'bat'}"
      ]
     },
     "execution_count": 21,
     "metadata": {},
     "output_type": "execute_result"
    }
   ],
   "source": [
    "my_dict[4]='bat'\n",
    "my_dict"
   ]
  },
  {
   "cell_type": "code",
   "execution_count": 24,
   "id": "266ab546",
   "metadata": {},
   "outputs": [
    {
     "data": {
      "text/plain": [
       "{1: None, 2: None, 3: None, 4: None}"
      ]
     },
     "execution_count": 24,
     "metadata": {},
     "output_type": "execute_result"
    }
   ],
   "source": [
    "#fromkeys (iterable,value)#syntax  iterable are list tuples ans range () dict these are iterable values ar \n",
    "#exampele\n",
    "list2=[1,2,3,4]\n",
    "dict.fromkeys(list2)"
   ]
  },
  {
   "cell_type": "code",
   "execution_count": 25,
   "id": "5415ba32",
   "metadata": {},
   "outputs": [
    {
     "data": {
      "text/plain": [
       "{1: 'bala', 2: 'bala', 3: 'bala', 4: 'bala'}"
      ]
     },
     "execution_count": 25,
     "metadata": {},
     "output_type": "execute_result"
    }
   ],
   "source": [
    "list2=[1,2,3,4]\n",
    "dict.fromkeys(list2,\"bala\")"
   ]
  },
  {
   "cell_type": "code",
   "execution_count": 26,
   "id": "e1ebfc59",
   "metadata": {},
   "outputs": [
    {
     "data": {
      "text/plain": [
       "{1: 10, 2: 10, 3: 10, 4: 10, 5: 10, 6: 10}"
      ]
     },
     "execution_count": 26,
     "metadata": {},
     "output_type": "execute_result"
    }
   ],
   "source": [
    "{}.fromkeys(range(1,7),10)"
   ]
  },
  {
   "cell_type": "code",
   "execution_count": 29,
   "id": "1aad74c5",
   "metadata": {},
   "outputs": [
    {
     "data": {
      "text/plain": [
       "20"
      ]
     },
     "execution_count": 29,
     "metadata": {},
     "output_type": "execute_result"
    }
   ],
   "source": [
    "#setdeafult(key,value)#setdeafult syntax these will just for key andvalue is optional\n",
    "students={'john':20,'yasd':21}\n",
    "students.setdefault('john')\n",
    "#here we are searching the key"
   ]
  },
  {
   "cell_type": "code",
   "execution_count": 30,
   "id": "ad8991f5",
   "metadata": {},
   "outputs": [],
   "source": [
    "students.setdefault(\"bala\")"
   ]
  },
  {
   "cell_type": "code",
   "execution_count": 31,
   "id": "655d62a9",
   "metadata": {},
   "outputs": [
    {
     "data": {
      "text/plain": [
       "{'john': 20, 'yasd': 21, 'bala': None}"
      ]
     },
     "execution_count": 31,
     "metadata": {},
     "output_type": "execute_result"
    }
   ],
   "source": [
    "students"
   ]
  },
  {
   "cell_type": "code",
   "execution_count": null,
   "id": "bb449d49",
   "metadata": {},
   "outputs": [],
   "source": [
    "#now bala is added the dict because of setdefault here we can the name using setdefault and if it will not there then it can add in the element"
   ]
  },
  {
   "cell_type": "code",
   "execution_count": 32,
   "id": "9add18c5",
   "metadata": {},
   "outputs": [
    {
     "data": {
      "text/plain": [
       "[1, 2, 3, 4, 'a', 'b', 'c', 'd']"
      ]
     },
     "execution_count": 32,
     "metadata": {},
     "output_type": "execute_result"
    }
   ],
   "source": [
    "#concetation \n",
    "#if their is a two list or two dict then we can concentation\n",
    "list1=[1,2,3,4]\n",
    "list2=['a','b','c','d']\n",
    "list1+list2"
   ]
  },
  {
   "cell_type": "code",
   "execution_count": 35,
   "id": "ce2d1b15",
   "metadata": {},
   "outputs": [
    {
     "data": {
      "text/plain": [
       "{1: 'orange', 2: 'abanab', 3: 'ball', 'o': 'orange'}"
      ]
     },
     "execution_count": 35,
     "metadata": {},
     "output_type": "execute_result"
    }
   ],
   "source": [
    "dict={1:'orange',2:'abanab',3:'ball'}\n",
    "dict2={'o':'orange'}\n",
    "dict.update(dict2)\n",
    "dict\n",
    "#it will just add the element "
   ]
  },
  {
   "cell_type": "code",
   "execution_count": 36,
   "id": "8c032fa1",
   "metadata": {},
   "outputs": [],
   "source": [
    "\n",
    "my_dict={1: 'a',2: 'b',3: 'd'}\n",
    "del my_dict[2]"
   ]
  },
  {
   "cell_type": "code",
   "execution_count": 37,
   "id": "39b1667f",
   "metadata": {},
   "outputs": [
    {
     "data": {
      "text/plain": [
       "{1: 'a', 3: 'd'}"
      ]
     },
     "execution_count": 37,
     "metadata": {},
     "output_type": "execute_result"
    }
   ],
   "source": [
    "my_dict"
   ]
  },
  {
   "cell_type": "code",
   "execution_count": 38,
   "id": "ff03ba17",
   "metadata": {},
   "outputs": [
    {
     "data": {
      "text/plain": [
       "'a'"
      ]
     },
     "execution_count": 38,
     "metadata": {},
     "output_type": "execute_result"
    }
   ],
   "source": [
    "#it is delete from the dict\n",
    "my_dict.pop(1)"
   ]
  },
  {
   "cell_type": "code",
   "execution_count": 39,
   "id": "ae875a54",
   "metadata": {},
   "outputs": [
    {
     "data": {
      "text/plain": [
       "{3: 'd'}"
      ]
     },
     "execution_count": 39,
     "metadata": {},
     "output_type": "execute_result"
    }
   ],
   "source": [
    "my_dict"
   ]
  },
  {
   "cell_type": "code",
   "execution_count": 40,
   "id": "f36fd843",
   "metadata": {},
   "outputs": [],
   "source": [
    "#pop anddelete  use the same thing and in  pop it will return the deleted one \n",
    "my_dict.clear()\n"
   ]
  },
  {
   "cell_type": "code",
   "execution_count": 41,
   "id": "d555cc52",
   "metadata": {},
   "outputs": [
    {
     "data": {
      "text/plain": [
       "{}"
      ]
     },
     "execution_count": 41,
     "metadata": {},
     "output_type": "execute_result"
    }
   ],
   "source": [
    "my_dict"
   ]
  },
  {
   "cell_type": "code",
   "execution_count": 42,
   "id": "754003ec",
   "metadata": {},
   "outputs": [
    {
     "name": "stdout",
     "output_type": "stream",
     "text": [
      "red\n",
      "blue\n",
      "yellow\n"
     ]
    }
   ],
   "source": [
    "#looping with the index\n",
    "color=['red','blue','yellow']\n",
    "for i in color:\n",
    "    print(i)"
   ]
  },
  {
   "cell_type": "code",
   "execution_count": 43,
   "id": "b1648e67",
   "metadata": {},
   "outputs": [
    {
     "name": "stdout",
     "output_type": "stream",
     "text": [
      "0 red\n",
      "1 blue\n",
      "2 yellow\n"
     ]
    }
   ],
   "source": [
    "#allocating the index to the list\n",
    "for i in range(len(color)):\n",
    "    print(i,color[i])"
   ]
  },
  {
   "cell_type": "code",
   "execution_count": 47,
   "id": "589d6931",
   "metadata": {},
   "outputs": [
    {
     "name": "stdout",
     "output_type": "stream",
     "text": [
      "1 red\n",
      "2 blue\n",
      "3 yellow\n"
     ]
    }
   ],
   "source": [
    "#enumerate\n",
    "color=['red','blue','yellow']\n",
    "for i,j in enumerate(color,1):\n",
    "    print(i,j)"
   ]
  },
  {
   "cell_type": "code",
   "execution_count": 48,
   "id": "f92e8d0b",
   "metadata": {},
   "outputs": [
    {
     "data": {
      "text/plain": [
       "{'apple'}"
      ]
     },
     "execution_count": 48,
     "metadata": {},
     "output_type": "execute_result"
    }
   ],
   "source": [
    "#set data type \n",
    "fruits ={'apple'}\n",
    "fruits"
   ]
  },
  {
   "cell_type": "code",
   "execution_count": 50,
   "id": "27c11668",
   "metadata": {},
   "outputs": [
    {
     "data": {
      "text/plain": [
       "{'apple', 'grapes'}"
      ]
     },
     "execution_count": 50,
     "metadata": {},
     "output_type": "execute_result"
    }
   ],
   "source": [
    "fruits.add('grapes')\n",
    "fruits"
   ]
  },
  {
   "cell_type": "code",
   "execution_count": 52,
   "id": "f5bb74c8",
   "metadata": {},
   "outputs": [
    {
     "data": {
      "text/plain": [
       "frozenset({'lion', 'tiger'})"
      ]
     },
     "execution_count": 52,
     "metadata": {},
     "output_type": "execute_result"
    }
   ],
   "source": [
    "animal=frozenset(['tiger','lion'])\n",
    "animal\n",
    "#this is immutable set we can't add in this list"
   ]
  },
  {
   "cell_type": "code",
   "execution_count": 54,
   "id": "271a2c69",
   "metadata": {},
   "outputs": [
    {
     "data": {
      "text/plain": [
       "{1, 2, 3, 12, 41, 44}"
      ]
     },
     "execution_count": 54,
     "metadata": {},
     "output_type": "execute_result"
    }
   ],
   "source": [
    "#set will contain not duplicated values\n",
    "#for exaample\n",
    "num={1,2,3,41,2,44,3,12,2,2,2}\n",
    "num"
   ]
  },
  {
   "cell_type": "code",
   "execution_count": 55,
   "id": "a52d0d4f",
   "metadata": {},
   "outputs": [
    {
     "data": {
      "text/plain": [
       "dict"
      ]
     },
     "execution_count": 55,
     "metadata": {},
     "output_type": "execute_result"
    }
   ],
   "source": [
    "emptyset={}\n",
    "type(emptyset)"
   ]
  },
  {
   "cell_type": "code",
   "execution_count": 56,
   "id": "4147cc66",
   "metadata": {},
   "outputs": [
    {
     "data": {
      "text/plain": [
       "{1, 3}"
      ]
     },
     "execution_count": 56,
     "metadata": {},
     "output_type": "execute_result"
    }
   ],
   "source": [
    "a={1,2,3,4}\n",
    "b={1,5,7,3}\n",
    "a&b"
   ]
  },
  {
   "cell_type": "code",
   "execution_count": 57,
   "id": "aa3bc50d",
   "metadata": {},
   "outputs": [
    {
     "data": {
      "text/plain": [
       "{2, 4}"
      ]
     },
     "execution_count": 57,
     "metadata": {},
     "output_type": "execute_result"
    }
   ],
   "source": [
    "a-b"
   ]
  },
  {
   "cell_type": "code",
   "execution_count": 58,
   "id": "6be541d2",
   "metadata": {},
   "outputs": [
    {
     "data": {
      "text/plain": [
       "{5, 7}"
      ]
     },
     "execution_count": 58,
     "metadata": {},
     "output_type": "execute_result"
    }
   ],
   "source": [
    "b-a"
   ]
  },
  {
   "cell_type": "code",
   "execution_count": 59,
   "id": "c7198db4",
   "metadata": {},
   "outputs": [
    {
     "data": {
      "text/plain": [
       "{2, 4, 5, 7}"
      ]
     },
     "execution_count": 59,
     "metadata": {},
     "output_type": "execute_result"
    }
   ],
   "source": [
    "a^b #it will give vaules which non common in ths set"
   ]
  },
  {
   "cell_type": "code",
   "execution_count": 60,
   "id": "b7eb3d43",
   "metadata": {},
   "outputs": [
    {
     "data": {
      "text/plain": [
       "4"
      ]
     },
     "execution_count": 60,
     "metadata": {},
     "output_type": "execute_result"
    }
   ],
   "source": [
    "len(a)"
   ]
  },
  {
   "cell_type": "code",
   "execution_count": 64,
   "id": "a82b8508",
   "metadata": {},
   "outputs": [
    {
     "data": {
      "text/plain": [
       "{1, 2, 3, 4}"
      ]
     },
     "execution_count": 64,
     "metadata": {},
     "output_type": "execute_result"
    }
   ],
   "source": [
    "#copy set \n",
    "C =a.copy()\n",
    "C"
   ]
  },
  {
   "cell_type": "code",
   "execution_count": null,
   "id": "edb597c3",
   "metadata": {},
   "outputs": [],
   "source": []
  }
 ],
 "metadata": {
  "kernelspec": {
   "display_name": "Python 3 (ipykernel)",
   "language": "python",
   "name": "python3"
  },
  "language_info": {
   "codemirror_mode": {
    "name": "ipython",
    "version": 3
   },
   "file_extension": ".py",
   "mimetype": "text/x-python",
   "name": "python",
   "nbconvert_exporter": "python",
   "pygments_lexer": "ipython3",
   "version": "3.9.13"
  }
 },
 "nbformat": 4,
 "nbformat_minor": 5
}
